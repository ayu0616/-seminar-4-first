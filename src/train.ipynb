{
 "cells": [
  {
   "cell_type": "code",
   "execution_count": 11,
   "metadata": {},
   "outputs": [],
   "source": [
    "import json\n",
    "from datetime import datetime\n",
    "\n",
    "import numpy as np\n",
    "from sklearn.ensemble import RandomForestClassifier\n",
    "from sklearn.model_selection import KFold\n",
    "\n",
    "from model.sequential_classfier import SequentialClassifier\n",
    "from type.abbreviation import Abbreviation\n",
    "from type.features import CrfFeatures, CrfLabelSequence\n",
    "from pydantic import BaseModel\n",
    "import pickle"
   ]
  },
  {
   "cell_type": "code",
   "execution_count": 12,
   "metadata": {},
   "outputs": [
    {
     "name": "stdout",
     "output_type": "stream",
     "text": [
      "\n"
     ]
    }
   ],
   "source": [
    "# 前処理した略語データを読み込む\n",
    "data = list(map(Abbreviation.model_validate, json.load(open(\"./data/abbreviation.json\", \"r\"))))\n",
    "X = [*map(CrfFeatures.from_abbreviation, data)]\n",
    "y = list(map(CrfLabelSequence.from_abbreviation, data))\n",
    "# ラベルの番号振り\n",
    "CrfFeatures.get_numbered_features(X)\n",
    "print()"
   ]
  },
  {
   "cell_type": "code",
   "execution_count": 13,
   "metadata": {},
   "outputs": [],
   "source": [
    "model = SequentialClassifier(\n",
    "    RandomForestClassifier(\n",
    "        random_state=616,\n",
    "        n_estimators=393,\n",
    "        max_depth=19,\n",
    "        max_features=\"sqrt\",\n",
    "        criterion=\"entropy\",\n",
    "    )\n",
    ")"
   ]
  },
  {
   "cell_type": "code",
   "execution_count": 14,
   "metadata": {},
   "outputs": [],
   "source": [
    "model.fit(X, y)"
   ]
  },
  {
   "cell_type": "code",
   "execution_count": 15,
   "metadata": {},
   "outputs": [],
   "source": [
    "pickle.dump(model, open(\"./model.pkl\", \"wb\"))\n",
    "pickle.dump(X, open(\"./X.pkl\", \"wb\"))"
   ]
  },
  {
   "cell_type": "code",
   "execution_count": null,
   "metadata": {},
   "outputs": [],
   "source": []
  }
 ],
 "metadata": {
  "kernelspec": {
   "display_name": ".venv",
   "language": "python",
   "name": "python3"
  },
  "language_info": {
   "codemirror_mode": {
    "name": "ipython",
    "version": 3
   },
   "file_extension": ".py",
   "mimetype": "text/x-python",
   "name": "python",
   "nbconvert_exporter": "python",
   "pygments_lexer": "ipython3",
   "version": "3.10.14"
  }
 },
 "nbformat": 4,
 "nbformat_minor": 2
}
