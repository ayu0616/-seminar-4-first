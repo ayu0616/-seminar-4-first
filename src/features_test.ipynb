{
 "cells": [
  {
   "cell_type": "code",
   "execution_count": 1,
   "metadata": {},
   "outputs": [],
   "source": [
    "import json\n",
    "from datetime import datetime\n",
    "\n",
    "import numpy as np\n",
    "from sklearn.ensemble import RandomForestClassifier\n",
    "from sklearn.model_selection import KFold\n",
    "\n",
    "from model.sequential_classfier import SequentialClassifier\n",
    "from type.abbreviation import Abbreviation\n",
    "from type.features import CrfFeatures, CrfLabelSequence\n",
    "from pydantic import BaseModel"
   ]
  },
  {
   "cell_type": "code",
   "execution_count": 2,
   "metadata": {},
   "outputs": [],
   "source": [
    "class FeaturesScore(BaseModel):\n",
    "    features: list[str]\n",
    "    score: float\n",
    "\n",
    "features_score = list(map(FeaturesScore.model_validate, json.load(open('features.json'))))"
   ]
  },
  {
   "cell_type": "code",
   "execution_count": 3,
   "metadata": {},
   "outputs": [],
   "source": [
    "CrfFeatures.no_use_keys = [\n",
    "]"
   ]
  },
  {
   "cell_type": "code",
   "execution_count": 4,
   "metadata": {},
   "outputs": [
    {
     "name": "stdout",
     "output_type": "stream",
     "text": [
      "\n"
     ]
    }
   ],
   "source": [
    "# 前処理した略語データを読み込む\n",
    "data = list(map(Abbreviation.model_validate, json.load(open(\"./data/abbreviation.json\", \"r\"))))\n",
    "X = [*map(CrfFeatures.from_abbreviation, data)]\n",
    "y = list(map(CrfLabelSequence.from_abbreviation, data))\n",
    "# ラベルの番号振り\n",
    "CrfFeatures.assign_feature_idx(X)\n",
    "print()"
   ]
  },
  {
   "cell_type": "code",
   "execution_count": 5,
   "metadata": {},
   "outputs": [],
   "source": [
    "model = SequentialClassifier(\n",
    "    RandomForestClassifier(\n",
    "        random_state=616,\n",
    "        n_estimators=393,\n",
    "        max_depth=19,\n",
    "        max_features=\"sqrt\",\n",
    "        criterion=\"entropy\",\n",
    "    )\n",
    ")"
   ]
  },
  {
   "cell_type": "code",
   "execution_count": 6,
   "metadata": {},
   "outputs": [],
   "source": [
    "kf = KFold(n_splits=5, shuffle=True, random_state=616)"
   ]
  },
  {
   "cell_type": "code",
   "execution_count": 7,
   "metadata": {},
   "outputs": [],
   "source": [
    "scores: list[float] = []\n",
    "for train_idx, test_idx in kf.split(X):\n",
    "    X_train = [X[i] for i in train_idx]\n",
    "    y_train = [y[i] for i in train_idx]\n",
    "    X_test = [X[i] for i in test_idx]\n",
    "    y_test = [y[i] for i in test_idx]\n",
    "    model.fit(X_train, y_train)\n",
    "    case_score_list = model.score(X_test, y_test)\n",
    "    score = np.mean([cs.f1 for cs in case_score_list])\n",
    "    scores.append(score)\n",
    "\n",
    "score_mean = np.mean(scores)"
   ]
  },
  {
   "cell_type": "code",
   "execution_count": 8,
   "metadata": {},
   "outputs": [
    {
     "name": "stdout",
     "output_type": "stream",
     "text": [
      "0.7303370326069588\n"
     ]
    }
   ],
   "source": [
    "print(score_mean)\n",
    "\n",
    "fs = FeaturesScore(\n",
    "    features=[f for f in CrfFeatures.model_json_schema()['required'] if f not in CrfFeatures.no_use_keys],\n",
    "    score=score_mean,\n",
    ")\n",
    "\n",
    "features_score.append(fs)"
   ]
  },
  {
   "cell_type": "code",
   "execution_count": 9,
   "metadata": {},
   "outputs": [],
   "source": [
    "# json.dump([fs.model_dump() for fs in features_score], open('features.json', 'w'), ensure_ascii=False, indent=4)"
   ]
  }
 ],
 "metadata": {
  "kernelspec": {
   "display_name": ".venv",
   "language": "python",
   "name": "python3"
  },
  "language_info": {
   "codemirror_mode": {
    "name": "ipython",
    "version": 3
   },
   "file_extension": ".py",
   "mimetype": "text/x-python",
   "name": "python",
   "nbconvert_exporter": "python",
   "pygments_lexer": "ipython3",
   "version": "3.10.14"
  }
 },
 "nbformat": 4,
 "nbformat_minor": 2
}
