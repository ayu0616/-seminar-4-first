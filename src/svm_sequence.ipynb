{
 "cells": [
  {
   "cell_type": "code",
   "execution_count": 45,
   "metadata": {},
   "outputs": [],
   "source": [
    "from type import CrfFeatures, Abbreviation, CrfLabelSequence\n",
    "import json\n",
    "from sklearn.model_selection import train_test_split\n",
    "from util.levenshtein_distance import edit_dist\n",
    "import numpy as np\n",
    "import matplotlib.pyplot as plt\n",
    "from sequential_svm import SequentialSVM"
   ]
  },
  {
   "cell_type": "code",
   "execution_count": 46,
   "metadata": {},
   "outputs": [],
   "source": [
    "# 前処理した略語データを読み込む\n",
    "data = list(map(Abbreviation.model_validate, json.load(open(\"./data/abbreviation.json\", \"r\"))))\n",
    "data_train: list[Abbreviation] = []\n",
    "data_test: list[Abbreviation] = []\n",
    "data_train, data_test = train_test_split(data, test_size=0.2)"
   ]
  },
  {
   "cell_type": "code",
   "execution_count": 47,
   "metadata": {},
   "outputs": [],
   "source": [
    "X_train = [*map(CrfFeatures.from_abbreviation, data_train)]\n",
    "y_train = list(map(CrfLabelSequence.from_abbreviation, data_train))\n",
    "X_test = [*map(CrfFeatures.from_abbreviation, data_test)]\n",
    "y_test = list(map(CrfLabelSequence.from_abbreviation, data_test))"
   ]
  },
  {
   "cell_type": "code",
   "execution_count": 48,
   "metadata": {},
   "outputs": [],
   "source": [
    "# ラベルの番号振り\n",
    "CrfFeatures.get_numbered_features(X_train)\n",
    "CrfFeatures.get_numbered_features(X_test)\n",
    "print(\"\", end=\"\")"
   ]
  },
  {
   "cell_type": "code",
   "execution_count": 49,
   "metadata": {},
   "outputs": [],
   "source": [
    "model = SequentialSVM(kernel=\"rbf\", degree=10)"
   ]
  },
  {
   "cell_type": "code",
   "execution_count": 50,
   "metadata": {},
   "outputs": [],
   "source": [
    "model.fit(X_train, y_train)"
   ]
  },
  {
   "cell_type": "code",
   "execution_count": 51,
   "metadata": {},
   "outputs": [],
   "source": [
    "y_pred = model.predict(X_test)"
   ]
  },
  {
   "cell_type": "code",
   "execution_count": 52,
   "metadata": {},
   "outputs": [],
   "source": [
    "correct_n = 0\n",
    "all_n = len(X_test)\n",
    "score_list = np.array([0.0] * all_n)  # スコアは 編集距離 / 単語のモーラ数 で定義する\n",
    "\n",
    "for i, (test, pred) in enumerate(zip(y_pred, y_test)):\n",
    "    test = np.array(test)\n",
    "    score_list[i] = (test==pred).mean()\n",
    "    if (test==pred).all():\n",
    "        correct_n += 1"
   ]
  },
  {
   "cell_type": "code",
   "execution_count": 53,
   "metadata": {},
   "outputs": [
    {
     "data": {
      "text/plain": [
       "0.5354330708661418"
      ]
     },
     "execution_count": 53,
     "metadata": {},
     "output_type": "execute_result"
    }
   ],
   "source": [
    "correct_n / all_n"
   ]
  },
  {
   "cell_type": "code",
   "execution_count": 54,
   "metadata": {},
   "outputs": [
    {
     "data": {
      "text/plain": [
       "0.751167893786004"
      ]
     },
     "execution_count": 54,
     "metadata": {},
     "output_type": "execute_result"
    }
   ],
   "source": [
    "score_list.mean()"
   ]
  },
  {
   "cell_type": "code",
   "execution_count": 55,
   "metadata": {},
   "outputs": [
    {
     "data": {
      "text/plain": [
       "(array([ 24.,   3.,   5.,   7.,  13.,  20.,  18.,   9.,  19., 136.]),\n",
       " array([0. , 0.1, 0.2, 0.3, 0.4, 0.5, 0.6, 0.7, 0.8, 0.9, 1. ]),\n",
       " <BarContainer object of 10 artists>)"
      ]
     },
     "execution_count": 55,
     "metadata": {},
     "output_type": "execute_result"
    },
    {
     "data": {
      "image/png": "[encoded data removed]",
      "text/plain": [
       "<Figure size 640x480 with 1 Axes>"
      ]
     },
     "metadata": {},
     "output_type": "display_data"
    }
   ],
   "source": [
    "plt.hist(score_list, bins=10)"
   ]
  },
  {
   "cell_type": "code",
   "execution_count": null,
   "metadata": {},
   "outputs": [],
   "source": []
  }
 ],
 "metadata": {
  "kernelspec": {
   "display_name": ".venv",
   "language": "python",
   "name": "python3"
  },
  "language_info": {
   "codemirror_mode": {
    "name": "ipython",
    "version": 3
   },
   "file_extension": ".py",
   "mimetype": "text/x-python",
   "name": "python",
   "nbconvert_exporter": "python",
   "pygments_lexer": "ipython3",
   "version": "3.10.14"
  }
 },
 "nbformat": 4,
 "nbformat_minor": 2
}
