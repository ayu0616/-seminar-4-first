{
 "cells": [
  {
   "cell_type": "code",
   "execution_count": 6,
   "metadata": {},
   "outputs": [],
   "source": [
    "from type import CrfFeatures, Abbreviation, CrfLabelSequence\n",
    "import json\n",
    "from sklearn.model_selection import train_test_split\n",
    "from util.levenshtein_distance import edit_dist\n",
    "import numpy as np\n",
    "import matplotlib.pyplot as plt\n",
    "from sequential_classfier import SequentialClassifier\n",
    "from sklearn.svm import SVC"
   ]
  },
  {
   "cell_type": "code",
   "execution_count": 7,
   "metadata": {},
   "outputs": [],
   "source": [
    "# 前処理した略語データを読み込む\n",
    "data = list(map(Abbreviation.model_validate, json.load(open(\"./data/abbreviation.json\", \"r\"))))\n",
    "data_train: list[Abbreviation] = []\n",
    "data_test: list[Abbreviation] = []\n",
    "data_train, data_test = train_test_split(data, test_size=0.2)"
   ]
  },
  {
   "cell_type": "code",
   "execution_count": 8,
   "metadata": {},
   "outputs": [],
   "source": [
    "X_train = [*map(CrfFeatures.from_abbreviation, data_train)]\n",
    "y_train = list(map(CrfLabelSequence.from_abbreviation, data_train))\n",
    "X_test = [*map(CrfFeatures.from_abbreviation, data_test)]\n",
    "y_test = list(map(CrfLabelSequence.from_abbreviation, data_test))"
   ]
  },
  {
   "cell_type": "code",
   "execution_count": 9,
   "metadata": {},
   "outputs": [],
   "source": [
    "# ラベルの番号振り\n",
    "CrfFeatures.get_numbered_features(X_train)\n",
    "CrfFeatures.get_numbered_features(X_test)\n",
    "print(\"\", end=\"\")"
   ]
  },
  {
   "cell_type": "code",
   "execution_count": 10,
   "metadata": {},
   "outputs": [],
   "source": [
    "model = SequentialClassifier(model=SVC)"
   ]
  },
  {
   "cell_type": "code",
   "execution_count": 11,
   "metadata": {},
   "outputs": [],
   "source": [
    "model.fit(X_train, y_train)"
   ]
  },
  {
   "cell_type": "code",
   "execution_count": 12,
   "metadata": {},
   "outputs": [],
   "source": [
    "y_pred = model.predict(X_test)"
   ]
  },
  {
   "cell_type": "code",
   "execution_count": 13,
   "metadata": {},
   "outputs": [],
   "source": [
    "correct_n = 0\n",
    "all_n = len(X_test)\n",
    "score_list = np.array([0.0] * all_n)  # スコアは 編集距離 / 単語のモーラ数 で定義する\n",
    "\n",
    "for i, (test, pred) in enumerate(zip(y_pred, y_test)):\n",
    "    test = np.array(test)\n",
    "    score_list[i] = (test==pred).mean()\n",
    "    if (test==pred).all():\n",
    "        correct_n += 1"
   ]
  },
  {
   "cell_type": "code",
   "execution_count": 14,
   "metadata": {},
   "outputs": [
    {
     "data": {
      "text/plain": [
       "0.0"
      ]
     },
     "execution_count": 14,
     "metadata": {},
     "output_type": "execute_result"
    }
   ],
   "source": [
    "correct_n / all_n"
   ]
  },
  {
   "cell_type": "code",
   "execution_count": 15,
   "metadata": {},
   "outputs": [
    {
     "data": {
      "text/plain": [
       "0.4873046791353878"
      ]
     },
     "execution_count": 15,
     "metadata": {},
     "output_type": "execute_result"
    }
   ],
   "source": [
    "score_list.mean()"
   ]
  },
  {
   "cell_type": "code",
   "execution_count": 16,
   "metadata": {},
   "outputs": [
    {
     "data": {
      "text/plain": [
       "(array([ 8., 30., 28., 40., 61., 44., 33.,  8.,  1.,  1.]),\n",
       " array([0.2       , 0.26888889, 0.33777778, 0.40666667, 0.47555556,\n",
       "        0.54444444, 0.61333333, 0.68222222, 0.75111111, 0.82      ,\n",
       "        0.88888889]),\n",
       " <BarContainer object of 10 artists>)"
      ]
     },
     "execution_count": 16,
     "metadata": {},
     "output_type": "execute_result"
    },
    {
     "data": {
      "image/png": "[encoded data removed]",
      "text/plain": [
       "<Figure size 640x480 with 1 Axes>"
      ]
     },
     "metadata": {},
     "output_type": "display_data"
    }
   ],
   "source": [
    "plt.hist(score_list, bins=10)"
   ]
  },
  {
   "cell_type": "code",
   "execution_count": null,
   "metadata": {},
   "outputs": [],
   "source": []
  }
 ],
 "metadata": {
  "kernelspec": {
   "display_name": ".venv",
   "language": "python",
   "name": "python3"
  },
  "language_info": {
   "codemirror_mode": {
    "name": "ipython",
    "version": 3
   },
   "file_extension": ".py",
   "mimetype": "text/x-python",
   "name": "python",
   "nbconvert_exporter": "python",
   "pygments_lexer": "ipython3",
   "version": "3.10.14"
  }
 },
 "nbformat": 4,
 "nbformat_minor": 2
}
