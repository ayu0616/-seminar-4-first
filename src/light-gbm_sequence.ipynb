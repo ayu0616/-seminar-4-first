{
 "cells": [
  {
   "cell_type": "code",
   "execution_count": 34,
   "metadata": {},
   "outputs": [],
   "source": [
    "from type import CrfFeatures, Abbreviation, CrfLabelSequence\n",
    "import json\n",
    "from sklearn.model_selection import train_test_split\n",
    "from util.levenshtein_distance import edit_dist\n",
    "import numpy as np\n",
    "import matplotlib.pyplot as plt\n",
    "from sequential_classfier import SequentialClassifier\n",
    "import lightgbm as lgb"
   ]
  },
  {
   "cell_type": "code",
   "execution_count": 35,
   "metadata": {},
   "outputs": [],
   "source": [
    "# 前処理した略語データを読み込む\n",
    "data = list(map(Abbreviation.model_validate, json.load(open(\"./data/abbreviation.json\", \"r\"))))\n",
    "data_train: list[Abbreviation] = []\n",
    "data_test: list[Abbreviation] = []\n",
    "data_train, data_test = train_test_split(data, test_size=0.2)"
   ]
  },
  {
   "cell_type": "code",
   "execution_count": 36,
   "metadata": {},
   "outputs": [],
   "source": [
    "X_train = [*map(CrfFeatures.from_abbreviation, data_train)]\n",
    "y_train = list(map(CrfLabelSequence.from_abbreviation, data_train))\n",
    "X_test = [*map(CrfFeatures.from_abbreviation, data_test)]\n",
    "y_test = list(map(CrfLabelSequence.from_abbreviation, data_test))"
   ]
  },
  {
   "cell_type": "code",
   "execution_count": 37,
   "metadata": {},
   "outputs": [],
   "source": [
    "# ラベルの番号振り\n",
    "CrfFeatures.get_numbered_features(X_train)\n",
    "CrfFeatures.get_numbered_features(X_test)\n",
    "print(\"\", end=\"\")"
   ]
  },
  {
   "cell_type": "code",
   "execution_count": 38,
   "metadata": {},
   "outputs": [],
   "source": [
    "model = SequentialClassifier(model=lgb.LGBMClassifier())"
   ]
  },
  {
   "cell_type": "code",
   "execution_count": 39,
   "metadata": {},
   "outputs": [
    {
     "name": "stdout",
     "output_type": "stream",
     "text": [
      "[LightGBM] [Info] Auto-choosing row-wise multi-threading, the overhead of testing was 0.001704 seconds.\n",
      "You can set `force_row_wise=true` to remove the overhead.\n",
      "And if memory is not enough, you can set `force_col_wise=true`.\n",
      "[LightGBM] [Info] Total Bins 342\n",
      "[LightGBM] [Info] Number of data points in the train set: 7556, number of used features: 161\n",
      "[LightGBM] [Info] Start training from score -1.805619\n",
      "[LightGBM] [Info] Start training from score -2.024344\n",
      "[LightGBM] [Info] Start training from score -1.650778\n",
      "[LightGBM] [Info] Start training from score -0.670122\n"
     ]
    }
   ],
   "source": [
    "model.fit(X_train, y_train)"
   ]
  },
  {
   "cell_type": "code",
   "execution_count": 40,
   "metadata": {},
   "outputs": [],
   "source": [
    "y_pred = model.predict(X_test)"
   ]
  },
  {
   "cell_type": "code",
   "execution_count": 41,
   "metadata": {},
   "outputs": [],
   "source": [
    "correct_n = 0\n",
    "all_n = len(X_test)\n",
    "score_list = np.array([0.0] * all_n)  # スコアは 編集距離 / 単語のモーラ数 で定義する\n",
    "\n",
    "for i, (test, pred) in enumerate(zip(y_pred, y_test)):\n",
    "    test = np.array(test)\n",
    "    score_list[i] = (test==pred).mean()\n",
    "    if (test==pred).all():\n",
    "        correct_n += 1"
   ]
  },
  {
   "cell_type": "code",
   "execution_count": 42,
   "metadata": {},
   "outputs": [
    {
     "data": {
      "text/plain": [
       "0.4645669291338583"
      ]
     },
     "execution_count": 42,
     "metadata": {},
     "output_type": "execute_result"
    }
   ],
   "source": [
    "correct_n / all_n"
   ]
  },
  {
   "cell_type": "code",
   "execution_count": 43,
   "metadata": {},
   "outputs": [
    {
     "data": {
      "text/plain": [
       "0.6700242015202645"
      ]
     },
     "execution_count": 43,
     "metadata": {},
     "output_type": "execute_result"
    }
   ],
   "source": [
    "score_list.mean()"
   ]
  },
  {
   "cell_type": "code",
   "execution_count": 44,
   "metadata": {},
   "outputs": [
    {
     "data": {
      "text/plain": [
       "(array([ 26.,  12.,  16.,   9.,  17.,  26.,  11.,  15.,   4., 118.]),\n",
       " array([0. , 0.1, 0.2, 0.3, 0.4, 0.5, 0.6, 0.7, 0.8, 0.9, 1. ]),\n",
       " <BarContainer object of 10 artists>)"
      ]
     },
     "execution_count": 44,
     "metadata": {},
     "output_type": "execute_result"
    },
    {
     "data": {
      "image/png": "[encoded data removed]",
      "text/plain": [
       "<Figure size 640x480 with 1 Axes>"
      ]
     },
     "metadata": {},
     "output_type": "display_data"
    }
   ],
   "source": [
    "plt.hist(score_list, bins=10)"
   ]
  },
  {
   "cell_type": "code",
   "execution_count": null,
   "metadata": {},
   "outputs": [],
   "source": []
  }
 ],
 "metadata": {
  "kernelspec": {
   "display_name": ".venv",
   "language": "python",
   "name": "python3"
  },
  "language_info": {
   "codemirror_mode": {
    "name": "ipython",
    "version": 3
   },
   "file_extension": ".py",
   "mimetype": "text/x-python",
   "name": "python",
   "nbconvert_exporter": "python",
   "pygments_lexer": "ipython3",
   "version": "3.10.14"
  }
 },
 "nbformat": 4,
 "nbformat_minor": 2
}
